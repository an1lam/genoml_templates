{
 "cells": [
  {
   "cell_type": "code",
   "execution_count": 1,
   "metadata": {},
   "outputs": [],
   "source": [
    "%load_ext autoreload\n",
    "%autoreload 2"
   ]
  },
  {
   "cell_type": "code",
   "execution_count": 33,
   "metadata": {},
   "outputs": [],
   "source": [
    "import os\n",
    "\n",
    "import h5py\n",
    "import kipoi\n",
    "import matplotlib.pyplot as plt\n",
    "import numpy as np\n",
    "import pandas as pd\n",
    "import pybedtools\n",
    "import seaborn as sns\n",
    "import scipy\n",
    "import scipy.io"
   ]
  },
  {
   "cell_type": "markdown",
   "metadata": {},
   "source": [
    "# Load DeepSEA Test Data"
   ]
  },
  {
   "cell_type": "code",
   "execution_count": 15,
   "metadata": {},
   "outputs": [],
   "source": [
    "data_dir = '../data/deepsea_train/'"
   ]
  },
  {
   "cell_type": "code",
   "execution_count": 16,
   "metadata": {},
   "outputs": [
    {
     "data": {
      "text/plain": [
       "(455024, 4, 1000)"
      ]
     },
     "execution_count": 16,
     "metadata": {},
     "output_type": "execute_result"
    }
   ],
   "source": [
    "test_mat_file = scipy.io.loadmat(os.path.join(data_dir, 'test.mat'))\n",
    "test_seqs, test_labels = test_mat_file['testxdata'], test_mat_file['testdata']\n",
    "test_seqs.shape"
   ]
  },
  {
   "cell_type": "code",
   "execution_count": 43,
   "metadata": {},
   "outputs": [
    {
     "data": {
      "text/plain": [
       "(array([[1, 0, 0, ..., 0, 0, 0],\n",
       "        [0, 0, 0, ..., 0, 0, 0],\n",
       "        [0, 0, 1, ..., 1, 0, 1],\n",
       "        [0, 1, 0, ..., 0, 1, 0]], dtype=uint8),\n",
       " '\\n',\n",
       " array([[0, 1, 0, ..., 0, 1, 0],\n",
       "        [0, 0, 1, ..., 1, 0, 1],\n",
       "        [0, 0, 0, ..., 0, 0, 0],\n",
       "        [1, 0, 0, ..., 0, 0, 0]], dtype=uint8))"
      ]
     },
     "execution_count": 43,
     "metadata": {},
     "output_type": "execute_result"
    }
   ],
   "source": [
    "# Show that the first and 227,513th sequences are reverse complements of each other.\n",
    "test_seqs[0], \"\\n\", np.flip(test_seqs[227512], axis=1)"
   ]
  },
  {
   "cell_type": "markdown",
   "metadata": {},
   "source": [
    "# Load DeepSEA Sequence Region Metadata"
   ]
  },
  {
   "cell_type": "code",
   "execution_count": 48,
   "metadata": {},
   "outputs": [],
   "source": [
    "bed = pybedtools.BedTool('../data/allTFs.pos.bed')\n",
    "all_tfs_df = bed.to_dataframe()\n",
    "test_regions_df = all_tfs_df[(all_tfs_df[\"chrom\"] == \"chr8\") | (all_tfs_df[\"chrom\"] == \"chr9\")]\n",
    "test_regions_df = pd.concat((test_regions_df, test_regions_df))\n",
    "test_regions_df.head()"
   ]
  },
  {
   "cell_type": "markdown",
   "metadata": {},
   "source": [
    "# Misc. Discussion\n",
    "\n",
    "Sequences: $ \\mathbf{X} $ with dimension $ N \\times L $.\n",
    "Labels: $ \\mathbf{Y} $ with dimension $ N \\times D $ where $ D = 919 $.\n",
    "\n",
    "DeepSEA learns $ P(Y \\mid X) $.\n",
    "\n",
    "You're going to learn $ P(Y, X) $. You also know $ P(Y \\mid X) $ which you can use to compare to DeepSEA's predictions.\n",
    "\n",
    "For a fair comparison, split $ X $ into $ X_{\\text{train}} $ and $ X_{\\text{test}} $. Train both DeepSEA\n",
    "and your model on $ X_{\\text{train}} $ and then compare their performance at approximating\n",
    "$ P(Y_{\\text{test}} \\mid X_{\\text{test}}). $"
   ]
  },
  {
   "cell_type": "markdown",
   "metadata": {},
   "source": [
    "# Load DeepSEA Model"
   ]
  },
  {
   "cell_type": "code",
   "execution_count": 14,
   "metadata": {},
   "outputs": [
    {
     "name": "stdout",
     "output_type": "stream",
     "text": [
      "Using downloaded and verified file: /home/ubuntu/.kipoi/models/DeepSEA/predict/downloaded/model_files/weights/89e640bf6bdbe1ff165f484d9796efc7\n"
     ]
    }
   ],
   "source": [
    "model = kipoi.get_model(\"DeepSEA/predict\")"
   ]
  },
  {
   "cell_type": "code",
   "execution_count": 26,
   "metadata": {},
   "outputs": [],
   "source": [
    "sample_preds = model.predict_on_batch(np.expand_dims(test_seqs[:100], axis=2).astype(np.float32))"
   ]
  },
  {
   "cell_type": "code",
   "execution_count": 30,
   "metadata": {},
   "outputs": [
    {
     "data": {
      "text/plain": [
       "(100, 919)"
      ]
     },
     "execution_count": 30,
     "metadata": {},
     "output_type": "execute_result"
    }
   ],
   "source": [
    "sample_preds.shape"
   ]
  },
  {
   "cell_type": "code",
   "execution_count": 32,
   "metadata": {},
   "outputs": [
    {
     "data": {
      "text/plain": [
       "(array([0.06626297, 0.00989131, 0.0716022 , 0.11329851, 0.11433659,\n",
       "        0.15173239, 0.04799287, 0.07929325, 0.02166701, 0.05837096],\n",
       "       dtype=float32), array([0, 0, 0, 0, 0, 0, 0, 0, 0, 0], dtype=uint8))"
      ]
     },
     "execution_count": 32,
     "metadata": {},
     "output_type": "execute_result"
    }
   ],
   "source": [
    "sample_preds[:10, 0], test_labels[:10, 0]"
   ]
  }
 ],
 "metadata": {
  "kernelspec": {
   "display_name": "genchrom2",
   "language": "python",
   "name": "genchrom2"
  },
  "language_info": {
   "codemirror_mode": {
    "name": "ipython",
    "version": 3
   },
   "file_extension": ".py",
   "mimetype": "text/x-python",
   "name": "python",
   "nbconvert_exporter": "python",
   "pygments_lexer": "ipython3",
   "version": "3.5.6"
  }
 },
 "nbformat": 4,
 "nbformat_minor": 4
}
