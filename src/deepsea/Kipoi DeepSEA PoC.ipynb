{
 "cells": [
  {
   "cell_type": "code",
   "execution_count": 2,
   "metadata": {},
   "outputs": [],
   "source": [
    "%load_ext autoreload\n",
    "%autoreload 2"
   ]
  },
  {
   "cell_type": "code",
   "execution_count": 3,
   "metadata": {},
   "outputs": [],
   "source": [
    "import pandas\n",
    "import kipoi\n",
    "import torch"
   ]
  },
  {
   "cell_type": "code",
   "execution_count": 4,
   "metadata": {},
   "outputs": [
    {
     "name": "stdout",
     "output_type": "stream",
     "text": [
      "Using downloaded and verified file: /home/ubuntu/.kipoi/models/DeepSEA/predict/downloaded/model_files/weights/89e640bf6bdbe1ff165f484d9796efc7\n"
     ]
    }
   ],
   "source": [
    "model = kipoi.get_model(\"DeepSEA/predict\")"
   ]
  },
  {
   "cell_type": "code",
   "execution_count": 5,
   "metadata": {},
   "outputs": [
    {
     "name": "stderr",
     "output_type": "stream",
     "text": [
      "100%|██████████| 1/1 [00:01<00:00,  1.27s/it]\n"
     ]
    },
    {
     "data": {
      "text/plain": [
       "array([[0.08161031, 0.06867661, 0.10076798, ..., 0.09493414, 0.02133885,\n",
       "        0.01201447],\n",
       "       [0.06698208, 0.01062424, 0.02694638, ..., 0.15490864, 0.04822354,\n",
       "        0.00770117],\n",
       "       [0.04445557, 0.00539728, 0.018408  , ..., 0.14994667, 0.35297143,\n",
       "        0.02272817],\n",
       "       ...,\n",
       "       [0.0008136 , 0.00404318, 0.00176918, ..., 0.02167318, 0.11304326,\n",
       "        0.0227315 ],\n",
       "       [0.00079004, 0.00249487, 0.00252155, ..., 0.05105034, 0.04735972,\n",
       "        0.01576881],\n",
       "       [0.00076794, 0.00237441, 0.00250101, ..., 0.05096885, 0.0472374 ,\n",
       "        0.01515269]], dtype=float32)"
      ]
     },
     "execution_count": 5,
     "metadata": {},
     "output_type": "execute_result"
    }
   ],
   "source": [
    "model.pipeline.predict_example()"
   ]
  },
  {
   "cell_type": "code",
   "execution_count": 6,
   "metadata": {},
   "outputs": [
    {
     "data": {
      "text/plain": [
       "(True, True)"
      ]
     },
     "execution_count": 6,
     "metadata": {},
     "output_type": "execute_result"
    }
   ],
   "source": [
    "torch.cuda.is_available(), torch.cuda.is_initialized()"
   ]
  }
 ],
 "metadata": {
  "kernelspec": {
   "display_name": "genchrom2",
   "language": "python",
   "name": "genchrom2"
  },
  "language_info": {
   "codemirror_mode": {
    "name": "ipython",
    "version": 3
   },
   "file_extension": ".py",
   "mimetype": "text/x-python",
   "name": "python",
   "nbconvert_exporter": "python",
   "pygments_lexer": "ipython3",
   "version": "3.5.6"
  }
 },
 "nbformat": 4,
 "nbformat_minor": 4
}
